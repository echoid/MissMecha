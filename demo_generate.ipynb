{
 "cells": [
  {
   "cell_type": "markdown",
   "metadata": {},
   "source": [
    "# Simulating Missing Data with `MissMechaGenerator`\n",
    "\n",
    "This notebook demonstrates how to simulate missing data using the `MissMechaGenerator` from the `missmecha` package.\n",
    "\n",
    "We use:\n",
    "- A complete synthetic dataset (`data_num`)\n",
    "- A single missingness mechanism applied globally across all features\n",
    "- No per-column customization\n",
    "\n",
    "For each configuration, we display:\n",
    "- The generated missing data\n",
    "- The overall missingness rate\n",
    "- Little's MCAR test result (to assess if data *may* be MCAR)"
   ]
  },
  {
   "cell_type": "markdown",
   "metadata": {},
   "source": [
    "## Setup\n",
    "Import required packages\n"
   ]
  },
  {
   "cell_type": "code",
   "execution_count": 1,
   "metadata": {},
   "outputs": [],
   "source": [
    "import numpy as np\n",
    "from sklearn.model_selection import train_test_split\n",
    "from missmecha import MissMechaGenerator\n",
    "from missmecha.analysis import compute_missing_rate, MCARTest"
   ]
  },
  {
   "cell_type": "markdown",
   "metadata": {},
   "source": [
    "### Generate Complete Data\n"
   ]
  },
  {
   "cell_type": "code",
   "execution_count": 2,
   "metadata": {},
   "outputs": [
    {
     "data": {
      "text/plain": [
       "array([[ 0.34558419,  0.82161814,  0.33043708, -1.30315723,  0.90535587,\n",
       "         0.44637457, -0.53695324,  0.5811181 ,  0.3645724 ,  0.2941325 ],\n",
       "       [ 0.02842224,  0.54671299, -0.73645409, -0.16290995, -0.48211931,\n",
       "         0.59884621,  0.03972211, -0.29245675, -0.78190846, -0.25719224],\n",
       "       [ 0.00814218, -0.27560291,  1.29406381,  1.00672432, -2.71116248,\n",
       "        -1.88901325, -0.17477209, -0.42219041,  0.213643  ,  0.21732193],\n",
       "       [ 2.11783876, -1.11202076, -0.37760501,  2.04277161,  0.646703  ,\n",
       "         0.66306337, -0.51400637, -1.64807517,  0.16746474,  0.10901409],\n",
       "       [-1.22735205, -0.68322666, -0.07204368, -0.94475162, -0.09826997,\n",
       "         0.09548303,  0.03558624, -0.50629166,  0.59374807,  0.89116695]])"
      ]
     },
     "execution_count": 2,
     "metadata": {},
     "output_type": "execute_result"
    }
   ],
   "source": [
    "# Create a synthetic numeric dataset\n",
    "data_num = np.random.default_rng(1).normal(loc=0.0, scale=1.0, size=(1000, 10))\n",
    "data_num[:5]"
   ]
  },
  {
   "cell_type": "markdown",
   "metadata": {},
   "source": [
    "### Train/Test Split"
   ]
  },
  {
   "cell_type": "code",
   "execution_count": 3,
   "metadata": {},
   "outputs": [],
   "source": [
    "X_train, X_test = train_test_split(data_num, test_size=0.3, random_state=42)"
   ]
  },
  {
   "cell_type": "markdown",
   "metadata": {},
   "source": [
    "### Run Simulations Across Mechanism Types"
   ]
  },
  {
   "cell_type": "code",
   "execution_count": 4,
   "metadata": {},
   "outputs": [
    {
     "name": "stdout",
     "output_type": "stream",
     "text": [
      "Mechanism: MCAR-1 | Missing rate: 0.3\n"
     ]
    },
    {
     "ename": "AttributeError",
     "evalue": "'MissMechaGenerator' object has no attribute 'fit_transform'",
     "output_type": "error",
     "traceback": [
      "\u001b[0;31m---------------------------------------------------------------------------\u001b[0m",
      "\u001b[0;31mAttributeError\u001b[0m                            Traceback (most recent call last)",
      "Input \u001b[0;32mIn [4]\u001b[0m, in \u001b[0;36m<cell line: 5>\u001b[0;34m()\u001b[0m\n\u001b[1;32m     10\u001b[0m mecha \u001b[38;5;241m=\u001b[39m MissMechaGenerator(\n\u001b[1;32m     11\u001b[0m     mechanism\u001b[38;5;241m=\u001b[39mmissing_type,\n\u001b[1;32m     12\u001b[0m     mechanism_type\u001b[38;5;241m=\u001b[39mmechanism_type,\n\u001b[1;32m     13\u001b[0m     missing_rate\u001b[38;5;241m=\u001b[39mmissing_rate,\n\u001b[1;32m     14\u001b[0m     seed\u001b[38;5;241m=\u001b[39m\u001b[38;5;241m42\u001b[39m\n\u001b[1;32m     15\u001b[0m )\n\u001b[1;32m     17\u001b[0m \u001b[38;5;66;03m# Fit and apply\u001b[39;00m\n\u001b[0;32m---> 18\u001b[0m X_missing \u001b[38;5;241m=\u001b[39m \u001b[43mmecha\u001b[49m\u001b[38;5;241;43m.\u001b[39;49m\u001b[43mfit_transform\u001b[49m(X_train)\n\u001b[1;32m     20\u001b[0m \u001b[38;5;66;03m# Report missing rate\u001b[39;00m\n\u001b[1;32m     21\u001b[0m compute_missing_rate(X_missing)\n",
      "\u001b[0;31mAttributeError\u001b[0m: 'MissMechaGenerator' object has no attribute 'fit_transform'"
     ]
    }
   ],
   "source": [
    "missing_type = \"mcar\"\n",
    "mechanism_type_list = [1, 2, 3]\n",
    "missing_rate_list = [0.3, 0.7]\n",
    "\n",
    "for mechanism_type in mechanism_type_list:\n",
    "    for missing_rate in missing_rate_list:\n",
    "        print(f\"Mechanism: {missing_type.upper()}-{mechanism_type} | Missing rate: {missing_rate}\")\n",
    "        \n",
    "        # Initialize generator\n",
    "        mecha = MissMechaGenerator(\n",
    "            mechanism=missing_type,\n",
    "            mechanism_type=mechanism_type,\n",
    "            missing_rate=missing_rate,\n",
    "            seed=42\n",
    "        )\n",
    "\n",
    "        # Fit and apply\n",
    "        X_missing = mecha.fit_transform(X_train)\n",
    "\n",
    "        # Report missing rate\n",
    "        compute_missing_rate(X_missing)\n",
    "\n",
    "        # Run Little's test\n",
    "        pval = MCARTest(method=\"little\")(X_missing)\n",
    "        print(\"-----------------------------------------------------------\")"
   ]
  },
  {
   "cell_type": "code",
   "execution_count": null,
   "metadata": {},
   "outputs": [],
   "source": [
    "missing_type = \"mar\"\n",
    "mechanism_type_list = [1, 2, 3]\n",
    "missing_rate_list = [0.3, 0.7]\n",
    "\n",
    "for mechanism_type in mechanism_type_list:\n",
    "    for missing_rate in missing_rate_list:\n",
    "        print(f\"Mechanism: {missing_type.upper()}-{mechanism_type} | Missing rate: {missing_rate}\")\n",
    "        \n",
    "        # Initialize generator\n",
    "        mecha = MissMechaGenerator(\n",
    "            mechanism=missing_type,\n",
    "            mechanism_type=mechanism_type,\n",
    "            missing_rate=missing_rate,\n",
    "            seed=42\n",
    "        )\n",
    "\n",
    "        # Fit and apply\n",
    "        X_missing = mecha.fit_transform(X_train)\n",
    "\n",
    "        # Report missing rate\n",
    "        compute_missing_rate(X_missing)\n",
    "\n",
    "        # Run Little's test\n",
    "        pval = MCARTest(method=\"little\")(X_missing)\n",
    "        print(\"-----------------------------------------------------------\")"
   ]
  },
  {
   "cell_type": "code",
   "execution_count": null,
   "metadata": {},
   "outputs": [],
   "source": [
    "missing_type = \"mnar\"\n",
    "mechanism_type_list = [1, 2, 3]\n",
    "missing_rate_list = [0.3, 0.7]\n",
    "\n",
    "for mechanism_type in mechanism_type_list:\n",
    "    for missing_rate in missing_rate_list:\n",
    "        print(f\"Mechanism: {missing_type.upper()}-{mechanism_type} | Missing rate: {missing_rate}\")\n",
    "        \n",
    "        # Initialize generator\n",
    "        mecha = MissMechaGenerator(\n",
    "            mechanism=missing_type,\n",
    "            mechanism_type=mechanism_type,\n",
    "            missing_rate=missing_rate,\n",
    "            seed=42\n",
    "        )\n",
    "\n",
    "        # Fit and apply\n",
    "        X_missing = mecha.fit_transform(X_train)\n",
    "\n",
    "        # Report missing rate\n",
    "        compute_missing_rate(X_missing)\n",
    "\n",
    "        # Run Little's test\n",
    "        pval = MCARTest(method=\"little\")(X_missing)\n",
    "        print(\"-----------------------------------------------------------\")"
   ]
  }
 ],
 "metadata": {
  "kernelspec": {
   "display_name": "Python 3 (ipykernel)",
   "language": "python",
   "name": "python3"
  },
  "language_info": {
   "codemirror_mode": {
    "name": "ipython",
    "version": 3
   },
   "file_extension": ".py",
   "mimetype": "text/x-python",
   "name": "python",
   "nbconvert_exporter": "python",
   "pygments_lexer": "ipython3",
   "version": "3.9.12"
  }
 },
 "nbformat": 4,
 "nbformat_minor": 2
}
