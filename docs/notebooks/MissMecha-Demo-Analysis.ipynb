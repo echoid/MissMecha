{
 "cells": [
  {
   "attachments": {},
   "cell_type": "markdown",
   "metadata": {},
   "source": [
    "# Analysis Demo\n",
    "\n",
    "This notebook demonstrates how to use MissMecha's analysis module to:\n",
    "- Summarize missingness\n",
    "- Perform baseline imputation\n",
    "- Evaluate imputation quality\n",
    "- Test missingness mechanism (MCAR vs non-MCAR)\n",
    "\n",
    "---\n",
    "\n",
    "## Import Required Libraries"
   ]
  },
  {
   "cell_type": "code",
   "execution_count": 1,
   "metadata": {},
   "outputs": [],
   "source": [
    "import numpy as np\n",
    "import pandas as pd\n",
    "from missmecha.generator import MissMechaGenerator\n",
    "from missmecha.impute import SimpleSmartImputer\n",
    "from missmecha.analysis import compute_missing_rate, evaluate_imputation, MCARTest"
   ]
  },
  {
   "attachments": {},
   "cell_type": "markdown",
   "metadata": {},
   "source": [
    "## Create a Synthetic Dataset"
   ]
  },
  {
   "cell_type": "code",
   "execution_count": 2,
   "metadata": {},
   "outputs": [
    {
     "data": {
      "text/html": [
       "<div>\n",
       "<style scoped>\n",
       "    .dataframe tbody tr th:only-of-type {\n",
       "        vertical-align: middle;\n",
       "    }\n",
       "\n",
       "    .dataframe tbody tr th {\n",
       "        vertical-align: top;\n",
       "    }\n",
       "\n",
       "    .dataframe thead th {\n",
       "        text-align: right;\n",
       "    }\n",
       "</style>\n",
       "<table border=\"1\" class=\"dataframe\">\n",
       "  <thead>\n",
       "    <tr style=\"text-align: right;\">\n",
       "      <th></th>\n",
       "      <th>age</th>\n",
       "      <th>income</th>\n",
       "      <th>gender</th>\n",
       "    </tr>\n",
       "  </thead>\n",
       "  <tbody>\n",
       "    <tr>\n",
       "      <th>0</th>\n",
       "      <td>58</td>\n",
       "      <td>69305.844008</td>\n",
       "      <td>0</td>\n",
       "    </tr>\n",
       "    <tr>\n",
       "      <th>1</th>\n",
       "      <td>48</td>\n",
       "      <td>66777.674097</td>\n",
       "      <td>1</td>\n",
       "    </tr>\n",
       "    <tr>\n",
       "      <th>2</th>\n",
       "      <td>34</td>\n",
       "      <td>66984.402592</td>\n",
       "      <td>1</td>\n",
       "    </tr>\n",
       "    <tr>\n",
       "      <th>3</th>\n",
       "      <td>62</td>\n",
       "      <td>61736.020637</td>\n",
       "      <td>1</td>\n",
       "    </tr>\n",
       "    <tr>\n",
       "      <th>4</th>\n",
       "      <td>27</td>\n",
       "      <td>66622.845136</td>\n",
       "      <td>1</td>\n",
       "    </tr>\n",
       "  </tbody>\n",
       "</table>\n",
       "</div>"
      ],
      "text/plain": [
       "   age        income  gender\n",
       "0   58  69305.844008       0\n",
       "1   48  66777.674097       1\n",
       "2   34  66984.402592       1\n",
       "3   62  61736.020637       1\n",
       "4   27  66622.845136       1"
      ]
     },
     "execution_count": 2,
     "metadata": {},
     "output_type": "execute_result"
    }
   ],
   "source": [
    "np.random.seed(42)\n",
    "\n",
    "data = pd.DataFrame({\n",
    "    \"age\": np.random.randint(20, 65, size=100),\n",
    "    \"income\": np.random.normal(60000, 10000, size=100),\n",
    "    \"gender\": np.random.choice([0, 1], size=100)\n",
    "})\n",
    "\n",
    "data.head()"
   ]
  },
  {
   "attachments": {},
   "cell_type": "markdown",
   "metadata": {},
   "source": [
    "We simulate a mixed-type dataset including both numerical and categorical variables.\n",
    "\n",
    "---\n",
    "\n",
    "## Generate Missingness (MCAR)\n",
    "\n",
    "Apply Missing Completely At Random (MCAR) pattern."
   ]
  },
  {
   "cell_type": "code",
   "execution_count": 3,
   "metadata": {},
   "outputs": [
    {
     "data": {
      "text/html": [
       "<div>\n",
       "<style scoped>\n",
       "    .dataframe tbody tr th:only-of-type {\n",
       "        vertical-align: middle;\n",
       "    }\n",
       "\n",
       "    .dataframe tbody tr th {\n",
       "        vertical-align: top;\n",
       "    }\n",
       "\n",
       "    .dataframe thead th {\n",
       "        text-align: right;\n",
       "    }\n",
       "</style>\n",
       "<table border=\"1\" class=\"dataframe\">\n",
       "  <thead>\n",
       "    <tr style=\"text-align: right;\">\n",
       "      <th></th>\n",
       "      <th>age</th>\n",
       "      <th>income</th>\n",
       "      <th>gender</th>\n",
       "    </tr>\n",
       "  </thead>\n",
       "  <tbody>\n",
       "    <tr>\n",
       "      <th>0</th>\n",
       "      <td>58.0</td>\n",
       "      <td>69305.844008</td>\n",
       "      <td>NaN</td>\n",
       "    </tr>\n",
       "    <tr>\n",
       "      <th>1</th>\n",
       "      <td>48.0</td>\n",
       "      <td>NaN</td>\n",
       "      <td>NaN</td>\n",
       "    </tr>\n",
       "    <tr>\n",
       "      <th>2</th>\n",
       "      <td>34.0</td>\n",
       "      <td>NaN</td>\n",
       "      <td>1.0</td>\n",
       "    </tr>\n",
       "    <tr>\n",
       "      <th>3</th>\n",
       "      <td>NaN</td>\n",
       "      <td>61736.020637</td>\n",
       "      <td>1.0</td>\n",
       "    </tr>\n",
       "    <tr>\n",
       "      <th>4</th>\n",
       "      <td>NaN</td>\n",
       "      <td>66622.845136</td>\n",
       "      <td>NaN</td>\n",
       "    </tr>\n",
       "  </tbody>\n",
       "</table>\n",
       "</div>"
      ],
      "text/plain": [
       "    age        income  gender\n",
       "0  58.0  69305.844008     NaN\n",
       "1  48.0           NaN     NaN\n",
       "2  34.0           NaN     1.0\n",
       "3   NaN  61736.020637     1.0\n",
       "4   NaN  66622.845136     NaN"
      ]
     },
     "execution_count": 3,
     "metadata": {},
     "output_type": "execute_result"
    }
   ],
   "source": [
    "mecha = MissMechaGenerator(mechanism=\"mcar\", missing_rate=0.5)\n",
    "mcar_missing = mecha.fit_transform(data)\n",
    "\n",
    "mcar_missing.head()"
   ]
  },
  {
   "attachments": {},
   "cell_type": "markdown",
   "metadata": {},
   "source": [
    "---\n",
    "\n",
    "##  Compute Missing Rate"
   ]
  },
  {
   "cell_type": "code",
   "execution_count": 4,
   "metadata": {},
   "outputs": [
    {
     "name": "stdout",
     "output_type": "stream",
     "text": [
      "Overall missing rate: 51.00%\n",
      "153 / 300 total values are missing.\n",
      "\n",
      "Top variables by missing rate:\n"
     ]
    },
    {
     "data": {
      "text/html": [
       "<div>\n",
       "<style scoped>\n",
       "    .dataframe tbody tr th:only-of-type {\n",
       "        vertical-align: middle;\n",
       "    }\n",
       "\n",
       "    .dataframe tbody tr th {\n",
       "        vertical-align: top;\n",
       "    }\n",
       "\n",
       "    .dataframe thead th {\n",
       "        text-align: right;\n",
       "    }\n",
       "</style>\n",
       "<table border=\"1\" class=\"dataframe\">\n",
       "  <thead>\n",
       "    <tr style=\"text-align: right;\">\n",
       "      <th></th>\n",
       "      <th>n_missing</th>\n",
       "      <th>missing_rate (%)</th>\n",
       "      <th>n_unique</th>\n",
       "      <th>dtype</th>\n",
       "      <th>n_total</th>\n",
       "    </tr>\n",
       "    <tr>\n",
       "      <th>column</th>\n",
       "      <th></th>\n",
       "      <th></th>\n",
       "      <th></th>\n",
       "      <th></th>\n",
       "      <th></th>\n",
       "    </tr>\n",
       "  </thead>\n",
       "  <tbody>\n",
       "    <tr>\n",
       "      <th>gender</th>\n",
       "      <td>55</td>\n",
       "      <td>55.0</td>\n",
       "      <td>2</td>\n",
       "      <td>float64</td>\n",
       "      <td>100</td>\n",
       "    </tr>\n",
       "    <tr>\n",
       "      <th>income</th>\n",
       "      <td>51</td>\n",
       "      <td>51.0</td>\n",
       "      <td>49</td>\n",
       "      <td>float64</td>\n",
       "      <td>100</td>\n",
       "    </tr>\n",
       "    <tr>\n",
       "      <th>age</th>\n",
       "      <td>47</td>\n",
       "      <td>47.0</td>\n",
       "      <td>32</td>\n",
       "      <td>float64</td>\n",
       "      <td>100</td>\n",
       "    </tr>\n",
       "  </tbody>\n",
       "</table>\n",
       "</div>"
      ],
      "text/plain": [
       "        n_missing  missing_rate (%)  n_unique    dtype  n_total\n",
       "column                                                         \n",
       "gender         55              55.0         2  float64      100\n",
       "income         51              51.0        49  float64      100\n",
       "age            47              47.0        32  float64      100"
      ]
     },
     "metadata": {},
     "output_type": "display_data"
    }
   ],
   "source": [
    "missing_rate = compute_missing_rate(mcar_missing)"
   ]
  },
  {
   "cell_type": "markdown",
   "metadata": {},
   "source": [
    "This summarizes:\n",
    "- Overall missing rate\n",
    "- Per-column missing rates\n",
    "\n",
    "---\n",
    "\n",
    "## Impute Missing Values\n",
    "\n",
    "Use `SimpleSmartImputer` to fill missing values."
   ]
  },
  {
   "cell_type": "code",
   "execution_count": 5,
   "metadata": {},
   "outputs": [
    {
     "name": "stdout",
     "output_type": "stream",
     "text": [
      "[SimpleSmartImputer] Column 'age' treated as numerical. Fill value = 41.45283018867924\n",
      "[SimpleSmartImputer] Column 'income' treated as numerical. Fill value = 60593.13322338924\n",
      "[SimpleSmartImputer] Column 'gender' treated as categorical. Fill value = 1.0\n"
     ]
    }
   ],
   "source": [
    "imp = SimpleSmartImputer(cat_cols=[\"gender\"])\n",
    "data_imputed = imp.fit_transform(mcar_missing)"
   ]
  },
  {
   "attachments": {},
   "cell_type": "markdown",
   "metadata": {},
   "source": [
    "\n",
    "By specifying `cat_cols`, the imputer knows to treat `gender` as categorical (mode imputation).\n",
    "\n",
    "---\n",
    "\n",
    "## Evaluate Imputation Quality\n",
    "\n",
    "### Using RMSE for Numerical Features"
   ]
  },
  {
   "cell_type": "code",
   "execution_count": 6,
   "metadata": {},
   "outputs": [
    {
     "name": "stdout",
     "output_type": "stream",
     "text": [
      "--------------------------------------------------\n",
      "Column                 RMSE   Scaled (0-1)\n",
      "--------------------------------------------------\n",
      "age                  13.060          0.297\n",
      "income             9781.570          0.210\n",
      "gender                0.661          0.661\n",
      "--------------------------------------------------\n",
      "Overall            3265.097          0.389\n"
     ]
    }
   ],
   "source": [
    "eval_results = evaluate_imputation(\n",
    "    data, \n",
    "    data_imputed, \n",
    "    mecha.bool_mask,\n",
    "    method=\"rmse\"\n",
    ")\n",
    "\n",
    "eval_results\n"
   ]
  },
  {
   "attachments": {},
   "cell_type": "markdown",
   "metadata": {},
   "source": [
    "This uses Root Mean Squared Error (RMSE) to measure reconstruction quality.\n",
    "\n",
    "### Using AvgErr for Mixed Types\n",
    "\n",
    "If `cat_cols` are specified, `evaluate_imputation()` automatically applies:\n",
    "- RMSE/MAE for numerical columns\n",
    "- Accuracy for categorical columns"
   ]
  },
  {
   "cell_type": "code",
   "execution_count": 7,
   "metadata": {},
   "outputs": [
    {
     "name": "stdout",
     "output_type": "stream",
     "text": [
      "--------------------------------------------------\n",
      "Column               AvgErr   Scaled (0-1)\n",
      "--------------------------------------------------\n",
      "age                  13.060          0.297\n",
      "income             9781.570          0.210\n",
      "gender                0.564          0.564\n",
      "--------------------------------------------------\n",
      "Overall            3265.065          0.357\n"
     ]
    }
   ],
   "source": [
    "eval_results = evaluate_imputation(\n",
    "    data, \n",
    "    data_imputed, \n",
    "    mecha.bool_mask,\n",
    "    cat_cols=[\"gender\"]\n",
    ")\n",
    "\n",
    "eval_results"
   ]
  },
  {
   "cell_type": "markdown",
   "metadata": {},
   "source": [
    "---\n",
    "\n",
    "### A Note on AvgERR\n",
    "\n",
    "The **AvgERR** metric combines numerical and categorical evaluations seamlessly:\n",
    "\n",
    "\\[ \\text{AvgErr}(v_j) = \\begin{cases}\n",
    "|X_{ij} - \\hat{X}_{ij}|, & \\text{MAE for numerical features} \\\\\n",
    "\\sqrt{(X_{ij} - \\hat{X}_{ij})^2}, & \\text{RMSE for numerical features} \\\\\n",
    "\\text{Accuracy}(X_{ij}, \\hat{X}_{ij}), & \\text{Accuracy for categorical features}\n",
    "\\end{cases} \\]\n",
    "\n",
    "✨ It adapts metric choice based on each column's type.\n",
    "\n",
    "---\n",
    "\n",
    "## Statistical Test: Little's MCAR Test\n",
    "\n",
    "### Test for MCAR"
   ]
  },
  {
   "cell_type": "code",
   "execution_count": 8,
   "metadata": {},
   "outputs": [
    {
     "name": "stdout",
     "output_type": "stream",
     "text": [
      "Method: Little's MCAR Test\n",
      "Test Statistic p-value: 0.251537\n",
      "Decision: Fail to reject the null hypothesis (α = 0.05)\n",
      "→ There is insufficient evidence to reject MCAR.\n",
      "Little's MCAR test p-value (MCAR case): 0.2515\n"
     ]
    }
   ],
   "source": [
    "pval_mcar = MCARTest(method=\"little\")(mcar_missing)\n",
    "print(f\"Little's MCAR test p-value (MCAR case): {pval_mcar:.4f}\")"
   ]
  },
  {
   "attachments": {},
   "cell_type": "markdown",
   "metadata": {},
   "source": [
    "A high p-value (>0.05) suggests MCAR cannot be rejected.\n",
    "\n",
    "### Test for Non-MCAR (MAR Example)\n",
    "\n",
    "Now simulate MAR and test again."
   ]
  }
 ],
 "metadata": {
  "kernelspec": {
   "display_name": "Python 3 (ipykernel)",
   "language": "python",
   "name": "python3"
  },
  "language_info": {
   "codemirror_mode": {
    "name": "ipython",
    "version": 3
   },
   "file_extension": ".py",
   "mimetype": "text/x-python",
   "name": "python",
   "nbconvert_exporter": "python",
   "pygments_lexer": "ipython3",
   "version": "3.10.10"
  }
 },
 "nbformat": 4,
 "nbformat_minor": 4
}
