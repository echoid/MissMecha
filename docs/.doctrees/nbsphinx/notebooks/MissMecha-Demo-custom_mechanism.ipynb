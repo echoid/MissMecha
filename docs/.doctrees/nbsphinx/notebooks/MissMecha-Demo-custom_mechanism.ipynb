{
 "cells": [
  {
   "cell_type": "markdown",
   "id": "31eb0809",
   "metadata": {},
   "source": [
    "# Custom Mechanism Demo\n",
    "This notebook demonstrates how to use a **custom missing data mechanism** in `MissMecha`.\n",
    "\n",
    "You will learn how to:\n",
    "- Define a custom masking class\n",
    "- Inject it into `MissMechaGenerator`\n",
    "- Visualize the result"
   ]
  },
  {
   "cell_type": "code",
   "execution_count": null,
   "id": "6bf0ef57",
   "metadata": {},
   "outputs": [],
   "source": [
    "# Import required modules\n",
    "import numpy as np\n",
    "import pandas as pd\n",
    "from missmecha.generator import MissMechaGenerator\n",
    "import matplotlib.pyplot as plt"
   ]
  },
  {
   "cell_type": "code",
   "execution_count": 15,
   "id": "7eb66cef",
   "metadata": {},
   "outputs": [
    {
     "data": {
      "text/html": [
       "<div>\n",
       "<style scoped>\n",
       "    .dataframe tbody tr th:only-of-type {\n",
       "        vertical-align: middle;\n",
       "    }\n",
       "\n",
       "    .dataframe tbody tr th {\n",
       "        vertical-align: top;\n",
       "    }\n",
       "\n",
       "    .dataframe thead th {\n",
       "        text-align: right;\n",
       "    }\n",
       "</style>\n",
       "<table border=\"1\" class=\"dataframe\">\n",
       "  <thead>\n",
       "    <tr style=\"text-align: right;\">\n",
       "      <th></th>\n",
       "      <th>feature1</th>\n",
       "      <th>feature2</th>\n",
       "      <th>target</th>\n",
       "    </tr>\n",
       "  </thead>\n",
       "  <tbody>\n",
       "    <tr>\n",
       "      <th>0</th>\n",
       "      <td>1.764052</td>\n",
       "      <td>4.238550</td>\n",
       "      <td>1</td>\n",
       "    </tr>\n",
       "    <tr>\n",
       "      <th>1</th>\n",
       "      <td>0.400157</td>\n",
       "      <td>6.063932</td>\n",
       "      <td>0</td>\n",
       "    </tr>\n",
       "    <tr>\n",
       "      <th>2</th>\n",
       "      <td>0.978738</td>\n",
       "      <td>0.191932</td>\n",
       "      <td>0</td>\n",
       "    </tr>\n",
       "    <tr>\n",
       "      <th>3</th>\n",
       "      <td>2.240893</td>\n",
       "      <td>3.015748</td>\n",
       "      <td>1</td>\n",
       "    </tr>\n",
       "    <tr>\n",
       "      <th>4</th>\n",
       "      <td>1.867558</td>\n",
       "      <td>6.601735</td>\n",
       "      <td>0</td>\n",
       "    </tr>\n",
       "  </tbody>\n",
       "</table>\n",
       "</div>"
      ],
      "text/plain": [
       "   feature1  feature2  target\n",
       "0  1.764052  4.238550       1\n",
       "1  0.400157  6.063932       0\n",
       "2  0.978738  0.191932       0\n",
       "3  2.240893  3.015748       1\n",
       "4  1.867558  6.601735       0"
      ]
     },
     "execution_count": 15,
     "metadata": {},
     "output_type": "execute_result"
    }
   ],
   "source": [
    "np.random.seed(0)\n",
    "X = pd.DataFrame({\n",
    "    'feature1': np.random.randn(100),\n",
    "    'feature2': np.random.rand(100) * 10,\n",
    "    'target': np.random.choice([0, 1], size=100)\n",
    "})\n",
    "X.head()"
   ]
  },
  {
   "cell_type": "code",
   "execution_count": 16,
   "id": "2df2d27c",
   "metadata": {},
   "outputs": [],
   "source": [
    "import numpy as np\n",
    "from missmecha.generator import MissMechaGenerator\n",
    "\n",
    "class MyCustomMasker:\n",
    "    \"\"\"\n",
    "    A simple custom mechanism that masks the first `missing_rate` proportion of rows.\n",
    "    \"\"\"\n",
    "    def __init__(self, missing_rate=0.1, seed=42):\n",
    "        self.missing_rate = missing_rate\n",
    "        self.seed = seed\n",
    "\n",
    "    def fit(self, X, y=None):\n",
    "        self.n_rows = X.shape[0]\n",
    "        return self\n",
    "\n",
    "    def transform(self, X):\n",
    "        X_missing = X.astype(float).copy()\n",
    "        cutoff = int(self.missing_rate * self.n_rows)\n",
    "        X_missing[:cutoff, :] = np.nan\n",
    "        return X_missing\n",
    "\n"
   ]
  },
  {
   "cell_type": "code",
   "execution_count": 17,
   "id": "a0424e48",
   "metadata": {},
   "outputs": [
    {
     "name": "stdout",
     "output_type": "stream",
     "text": [
      "Overall missing rate: 20.00%\n",
      "60 / 300 total values are missing.\n",
      "\n",
      "Top variables by missing rate:\n"
     ]
    },
    {
     "data": {
      "text/html": [
       "<div>\n",
       "<style scoped>\n",
       "    .dataframe tbody tr th:only-of-type {\n",
       "        vertical-align: middle;\n",
       "    }\n",
       "\n",
       "    .dataframe tbody tr th {\n",
       "        vertical-align: top;\n",
       "    }\n",
       "\n",
       "    .dataframe thead th {\n",
       "        text-align: right;\n",
       "    }\n",
       "</style>\n",
       "<table border=\"1\" class=\"dataframe\">\n",
       "  <thead>\n",
       "    <tr style=\"text-align: right;\">\n",
       "      <th></th>\n",
       "      <th>n_missing</th>\n",
       "      <th>missing_rate (%)</th>\n",
       "      <th>n_unique</th>\n",
       "      <th>dtype</th>\n",
       "      <th>n_total</th>\n",
       "    </tr>\n",
       "    <tr>\n",
       "      <th>column</th>\n",
       "      <th></th>\n",
       "      <th></th>\n",
       "      <th></th>\n",
       "      <th></th>\n",
       "      <th></th>\n",
       "    </tr>\n",
       "  </thead>\n",
       "  <tbody>\n",
       "    <tr>\n",
       "      <th>feature1</th>\n",
       "      <td>20</td>\n",
       "      <td>20.0</td>\n",
       "      <td>80</td>\n",
       "      <td>float64</td>\n",
       "      <td>100</td>\n",
       "    </tr>\n",
       "    <tr>\n",
       "      <th>feature2</th>\n",
       "      <td>20</td>\n",
       "      <td>20.0</td>\n",
       "      <td>80</td>\n",
       "      <td>float64</td>\n",
       "      <td>100</td>\n",
       "    </tr>\n",
       "    <tr>\n",
       "      <th>target</th>\n",
       "      <td>20</td>\n",
       "      <td>20.0</td>\n",
       "      <td>2</td>\n",
       "      <td>float64</td>\n",
       "      <td>100</td>\n",
       "    </tr>\n",
       "  </tbody>\n",
       "</table>\n",
       "</div>"
      ],
      "text/plain": [
       "          n_missing  missing_rate (%)  n_unique    dtype  n_total\n",
       "column                                                           \n",
       "feature1         20              20.0        80  float64      100\n",
       "feature2         20              20.0        80  float64      100\n",
       "target           20              20.0         2  float64      100"
      ]
     },
     "metadata": {},
     "output_type": "display_data"
    },
    {
     "data": {
      "text/plain": [
       "{'report':           n_missing  missing_rate (%)  n_unique    dtype  n_total\n",
       " column                                                           \n",
       " feature1         20              20.0        80  float64      100\n",
       " feature2         20              20.0        80  float64      100\n",
       " target           20              20.0         2  float64      100,\n",
       " 'overall_missing_rate': 20.0}"
      ]
     },
     "execution_count": 17,
     "metadata": {},
     "output_type": "execute_result"
    }
   ],
   "source": [
    "# Use MissMechaGenerator with the custom mechanism\n",
    "gen = MissMechaGenerator(mechanism='custom', custom_class=MyCustomMasker, missing_rate=0.2)\n",
    "X_missing = gen.fit_transform(X)\n",
    "\n",
    "compute_missing_rate(X_missing)"
   ]
  }
 ],
 "metadata": {
  "kernelspec": {
   "display_name": "py3.10",
   "language": "python",
   "name": "python3"
  },
  "language_info": {
   "codemirror_mode": {
    "name": "ipython",
    "version": 3
   },
   "file_extension": ".py",
   "mimetype": "text/x-python",
   "name": "python",
   "nbconvert_exporter": "python",
   "pygments_lexer": "ipython3",
   "version": "3.10.13"
  }
 },
 "nbformat": 4,
 "nbformat_minor": 5
}
