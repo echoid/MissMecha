{
 "cells": [
  {
   "attachments": {},
   "cell_type": "markdown",
   "metadata": {},
   "source": [
    "# Impute Demo\n",
    "\n",
    "This notebook demonstrates how to use the `SimpleSmartImputer` module from MissMecha for basic missing value imputation.\n",
    "\n",
    "We will:\n",
    "- Create a small dataset with both numerical and categorical features\n",
    "- Apply automatic imputation strategies\n",
    "- Inspect the imputed results\n"
   ]
  },
  {
   "cell_type": "code",
   "execution_count": 1,
   "metadata": {},
   "outputs": [],
   "source": [
    "# --- Import Required Libraries ---\n",
    "import pandas as pd\n",
    "import numpy as np\n",
    "\n",
    "# --- Set random seed for reproducibility ---\n",
    "np.random.seed(42)\n"
   ]
  },
  {
   "cell_type": "code",
   "execution_count": 2,
   "metadata": {},
   "outputs": [
    {
     "name": "stdout",
     "output_type": "stream",
     "text": [
      "Original dataset with missing values:\n"
     ]
    },
    {
     "data": {
      "text/html": [
       "<div>\n",
       "<style scoped>\n",
       "    .dataframe tbody tr th:only-of-type {\n",
       "        vertical-align: middle;\n",
       "    }\n",
       "\n",
       "    .dataframe tbody tr th {\n",
       "        vertical-align: top;\n",
       "    }\n",
       "\n",
       "    .dataframe thead th {\n",
       "        text-align: right;\n",
       "    }\n",
       "</style>\n",
       "<table border=\"1\" class=\"dataframe\">\n",
       "  <thead>\n",
       "    <tr style=\"text-align: right;\">\n",
       "      <th></th>\n",
       "      <th>age</th>\n",
       "      <th>income</th>\n",
       "      <th>gender</th>\n",
       "    </tr>\n",
       "  </thead>\n",
       "  <tbody>\n",
       "    <tr>\n",
       "      <th>0</th>\n",
       "      <td>25.0</td>\n",
       "      <td>50000.0</td>\n",
       "      <td>M</td>\n",
       "    </tr>\n",
       "    <tr>\n",
       "      <th>1</th>\n",
       "      <td>NaN</td>\n",
       "      <td>60000.0</td>\n",
       "      <td>F</td>\n",
       "    </tr>\n",
       "    <tr>\n",
       "      <th>2</th>\n",
       "      <td>30.0</td>\n",
       "      <td>NaN</td>\n",
       "      <td>M</td>\n",
       "    </tr>\n",
       "    <tr>\n",
       "      <th>3</th>\n",
       "      <td>22.0</td>\n",
       "      <td>52000.0</td>\n",
       "      <td>NaN</td>\n",
       "    </tr>\n",
       "    <tr>\n",
       "      <th>4</th>\n",
       "      <td>NaN</td>\n",
       "      <td>58000.0</td>\n",
       "      <td>F</td>\n",
       "    </tr>\n",
       "  </tbody>\n",
       "</table>\n",
       "</div>"
      ],
      "text/plain": [
       "    age   income gender\n",
       "0  25.0  50000.0      M\n",
       "1   NaN  60000.0      F\n",
       "2  30.0      NaN      M\n",
       "3  22.0  52000.0    NaN\n",
       "4   NaN  58000.0      F"
      ]
     },
     "execution_count": 2,
     "metadata": {},
     "output_type": "execute_result"
    }
   ],
   "source": [
    "# --- Create a Synthetic Dataset ---\n",
    "\n",
    "data = {\n",
    "    'age': [25, np.nan, 30, 22, np.nan, 28, 35, 40, np.nan, 32],\n",
    "    'income': [50000, 60000, np.nan, 52000, 58000, np.nan, 61000, 59000, 57000, np.nan],\n",
    "    'gender': ['M', 'F', 'M', np.nan, 'F', 'F', 'M', 'F', np.nan, 'F']\n",
    "}\n",
    "\n",
    "df = pd.DataFrame(data)\n",
    "\n",
    "print(\"Original dataset with missing values:\")\n",
    "df.head()\n"
   ]
  },
  {
   "cell_type": "code",
   "execution_count": 5,
   "metadata": {},
   "outputs": [
    {
     "name": "stdout",
     "output_type": "stream",
     "text": [
      "[SimpleSmartImputer] Column 'age' treated as numerical. Fill value = 30.285714285714285\n",
      "[SimpleSmartImputer] Column 'income' treated as numerical. Fill value = 56714.28571428572\n",
      "[SimpleSmartImputer] Column 'gender' treated as categorical. Fill value = F\n",
      "Imputed dataset:\n"
     ]
    },
    {
     "data": {
      "text/html": [
       "<div>\n",
       "<style scoped>\n",
       "    .dataframe tbody tr th:only-of-type {\n",
       "        vertical-align: middle;\n",
       "    }\n",
       "\n",
       "    .dataframe tbody tr th {\n",
       "        vertical-align: top;\n",
       "    }\n",
       "\n",
       "    .dataframe thead th {\n",
       "        text-align: right;\n",
       "    }\n",
       "</style>\n",
       "<table border=\"1\" class=\"dataframe\">\n",
       "  <thead>\n",
       "    <tr style=\"text-align: right;\">\n",
       "      <th></th>\n",
       "      <th>age</th>\n",
       "      <th>income</th>\n",
       "      <th>gender</th>\n",
       "    </tr>\n",
       "  </thead>\n",
       "  <tbody>\n",
       "    <tr>\n",
       "      <th>0</th>\n",
       "      <td>25.000000</td>\n",
       "      <td>50000.000000</td>\n",
       "      <td>M</td>\n",
       "    </tr>\n",
       "    <tr>\n",
       "      <th>1</th>\n",
       "      <td>30.285714</td>\n",
       "      <td>60000.000000</td>\n",
       "      <td>F</td>\n",
       "    </tr>\n",
       "    <tr>\n",
       "      <th>2</th>\n",
       "      <td>30.000000</td>\n",
       "      <td>56714.285714</td>\n",
       "      <td>M</td>\n",
       "    </tr>\n",
       "    <tr>\n",
       "      <th>3</th>\n",
       "      <td>22.000000</td>\n",
       "      <td>52000.000000</td>\n",
       "      <td>F</td>\n",
       "    </tr>\n",
       "    <tr>\n",
       "      <th>4</th>\n",
       "      <td>30.285714</td>\n",
       "      <td>58000.000000</td>\n",
       "      <td>F</td>\n",
       "    </tr>\n",
       "  </tbody>\n",
       "</table>\n",
       "</div>"
      ],
      "text/plain": [
       "         age        income gender\n",
       "0  25.000000  50000.000000      M\n",
       "1  30.285714  60000.000000      F\n",
       "2  30.000000  56714.285714      M\n",
       "3  22.000000  52000.000000      F\n",
       "4  30.285714  58000.000000      F"
      ]
     },
     "execution_count": 5,
     "metadata": {},
     "output_type": "execute_result"
    }
   ],
   "source": [
    "# --- Apply SimpleSmartImputer ---\n",
    "\n",
    "from missmecha.impute import SimpleSmartImputer\n",
    "\n",
    "# Instantiate the imputer\n",
    "imp = SimpleSmartImputer(cat_cols=['gender'])\n",
    "\n",
    "# Fit and transform the data\n",
    "df_imputed = imp.fit_transform(df)\n",
    "\n",
    "print(\"Imputed dataset:\")\n",
    "df_imputed.head()\n",
    "\n"
   ]
  },
  {
   "attachments": {},
   "cell_type": "markdown",
   "metadata": {},
   "source": [
    "## Note\n",
    "- Numerical columns (e.g., `age`, `income`) are imputed using the **mean**.\n",
    "- Categorical columns (e.g., `gender`) are imputed using the **mode**.\n",
    "- No manual column type specification is required; MissMecha detects types automatically.\n",
    "\n",
    "For more advanced control, users can manually specify column types or customize imputation behavior.\n",
    "\n",
    "## Key Takeaways\n",
    "\n",
    "- Automatically imputes numerical columns with **mean** and categorical columns with **mode**.\n",
    "- Supports **scikit-learn style** API (`fit`, `transform`, `fit_transform`).\n",
    "- Allows **manual specification** of categorical columns if needed.\n",
    "- Provides a **quick and lightweight** baseline for missing data imputation."
   ]
  }
 ],
 "metadata": {
  "kernelspec": {
   "display_name": "Python 3 (ipykernel)",
   "language": "python",
   "name": "python3"
  },
  "language_info": {
   "codemirror_mode": {
    "name": "ipython",
    "version": 3
   },
   "file_extension": ".py",
   "mimetype": "text/x-python",
   "name": "python",
   "nbconvert_exporter": "python",
   "pygments_lexer": "ipython3",
   "version": "3.10.10"
  }
 },
 "nbformat": 4,
 "nbformat_minor": 4
}
