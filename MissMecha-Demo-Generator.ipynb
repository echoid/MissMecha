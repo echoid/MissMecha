{
 "cells": [
  {
   "cell_type": "code",
   "execution_count": 1,
   "metadata": {},
   "outputs": [],
   "source": [
    "import pandas as pd\n",
    "import numpy as np\n",
    "from missmecha.generator import MissMechaGenerator\n",
    "\n",
    "np.random.seed(42)\n",
    "df = pd.DataFrame({\n",
    "    \"age\": np.random.randint(20, 60, size=100),\n",
    "    \"income\": np.random.normal(60000, 10000, size=100),\n",
    "    \"gender\": np.random.choice([\"M\", \"F\"], size=100)\n",
    "})"
   ]
  },
  {
   "cell_type": "markdown",
   "metadata": {},
   "source": [
    "### Check Number of Available Mechanisms"
   ]
  },
  {
   "cell_type": "code",
   "execution_count": 2,
   "metadata": {},
   "outputs": [
    {
     "name": "stdout",
     "output_type": "stream",
     "text": [
      "Supported MCAR types: 3\n",
      "Supported MAR types: 8\n",
      "Supported MNAR types: 6\n"
     ]
    }
   ],
   "source": [
    "from missmecha.generator import MECHANISM_LOOKUP\n",
    "\n",
    "print(f\"Supported MCAR types: {len(MECHANISM_LOOKUP['mcar'])}\")\n",
    "print(f\"Supported MAR types: {len(MECHANISM_LOOKUP['mar'])}\")\n",
    "print(f\"Supported MNAR types: {len(MECHANISM_LOOKUP['mnar'])}\")"
   ]
  },
  {
   "cell_type": "markdown",
   "metadata": {},
   "source": [
    "###  Global Mechanism Simulation "
   ]
  },
  {
   "cell_type": "code",
   "execution_count": 3,
   "metadata": {},
   "outputs": [
    {
     "data": {
      "text/html": [
       "<div>\n",
       "<style scoped>\n",
       "    .dataframe tbody tr th:only-of-type {\n",
       "        vertical-align: middle;\n",
       "    }\n",
       "\n",
       "    .dataframe tbody tr th {\n",
       "        vertical-align: top;\n",
       "    }\n",
       "\n",
       "    .dataframe thead th {\n",
       "        text-align: right;\n",
       "    }\n",
       "</style>\n",
       "<table border=\"1\" class=\"dataframe\">\n",
       "  <thead>\n",
       "    <tr style=\"text-align: right;\">\n",
       "      <th></th>\n",
       "      <th>age</th>\n",
       "      <th>income</th>\n",
       "      <th>gender</th>\n",
       "    </tr>\n",
       "  </thead>\n",
       "  <tbody>\n",
       "    <tr>\n",
       "      <th>0</th>\n",
       "      <td>58.0</td>\n",
       "      <td>58222.678787</td>\n",
       "      <td>NaN</td>\n",
       "    </tr>\n",
       "    <tr>\n",
       "      <th>1</th>\n",
       "      <td>48.0</td>\n",
       "      <td>55896.166913</td>\n",
       "      <td>M</td>\n",
       "    </tr>\n",
       "    <tr>\n",
       "      <th>2</th>\n",
       "      <td>34.0</td>\n",
       "      <td>71797.163447</td>\n",
       "      <td>F</td>\n",
       "    </tr>\n",
       "    <tr>\n",
       "      <th>3</th>\n",
       "      <td>NaN</td>\n",
       "      <td>51017.920605</td>\n",
       "      <td>F</td>\n",
       "    </tr>\n",
       "    <tr>\n",
       "      <th>4</th>\n",
       "      <td>40.0</td>\n",
       "      <td>68347.954192</td>\n",
       "      <td>F</td>\n",
       "    </tr>\n",
       "  </tbody>\n",
       "</table>\n",
       "</div>"
      ],
      "text/plain": [
       "    age        income gender\n",
       "0  58.0  58222.678787    NaN\n",
       "1  48.0  55896.166913      M\n",
       "2  34.0  71797.163447      F\n",
       "3   NaN  51017.920605      F\n",
       "4  40.0  68347.954192      F"
      ]
     },
     "execution_count": 3,
     "metadata": {},
     "output_type": "execute_result"
    }
   ],
   "source": [
    "global_df = df.copy()\n",
    "\n",
    "# Simple MCAR globally applied\n",
    "gen_global = MissMechaGenerator(mechanism=\"mcar\", missing_rate=0.3, cat_cols=[\"gender\"])\n",
    "df_missing_global = gen_global.fit_transform(global_df)\n",
    "\n",
    "df_missing_global.head()\n"
   ]
  },
  {
   "cell_type": "markdown",
   "metadata": {},
   "source": [
    "### Column-wise Different Mechanisms (Using `info`)"
   ]
  },
  {
   "cell_type": "code",
   "execution_count": 4,
   "metadata": {},
   "outputs": [
    {
     "name": "stdout",
     "output_type": "stream",
     "text": [
      "[MARType3] No label provided. Using synthetic labels instead.\n"
     ]
    },
    {
     "data": {
      "text/html": [
       "<div>\n",
       "<style scoped>\n",
       "    .dataframe tbody tr th:only-of-type {\n",
       "        vertical-align: middle;\n",
       "    }\n",
       "\n",
       "    .dataframe tbody tr th {\n",
       "        vertical-align: top;\n",
       "    }\n",
       "\n",
       "    .dataframe thead th {\n",
       "        text-align: right;\n",
       "    }\n",
       "</style>\n",
       "<table border=\"1\" class=\"dataframe\">\n",
       "  <thead>\n",
       "    <tr style=\"text-align: right;\">\n",
       "      <th></th>\n",
       "      <th>age</th>\n",
       "      <th>income</th>\n",
       "      <th>gender</th>\n",
       "    </tr>\n",
       "  </thead>\n",
       "  <tbody>\n",
       "    <tr>\n",
       "      <th>0</th>\n",
       "      <td>NaN</td>\n",
       "      <td>58222.678787</td>\n",
       "      <td>NaN</td>\n",
       "    </tr>\n",
       "    <tr>\n",
       "      <th>1</th>\n",
       "      <td>48.0</td>\n",
       "      <td>NaN</td>\n",
       "      <td>M</td>\n",
       "    </tr>\n",
       "    <tr>\n",
       "      <th>2</th>\n",
       "      <td>NaN</td>\n",
       "      <td>71797.163447</td>\n",
       "      <td>F</td>\n",
       "    </tr>\n",
       "    <tr>\n",
       "      <th>3</th>\n",
       "      <td>27.0</td>\n",
       "      <td>51017.920605</td>\n",
       "      <td>F</td>\n",
       "    </tr>\n",
       "    <tr>\n",
       "      <th>4</th>\n",
       "      <td>40.0</td>\n",
       "      <td>NaN</td>\n",
       "      <td>NaN</td>\n",
       "    </tr>\n",
       "  </tbody>\n",
       "</table>\n",
       "</div>"
      ],
      "text/plain": [
       "    age        income gender\n",
       "0   NaN  58222.678787    NaN\n",
       "1  48.0           NaN      M\n",
       "2   NaN  71797.163447      F\n",
       "3  27.0  51017.920605      F\n",
       "4  40.0           NaN    NaN"
      ]
     },
     "execution_count": 4,
     "metadata": {},
     "output_type": "execute_result"
    }
   ],
   "source": [
    "columnwise_df = df.copy()\n",
    "info = {\n",
    "    \"age\": {\n",
    "        \"mechanism\": \"mcar\",\n",
    "        \"type\": 1,\n",
    "        \"rate\": 0.2\n",
    "    },\n",
    "    \"income\": {\n",
    "        \"mechanism\": \"mar\",\n",
    "        \"type\": 3,\n",
    "        \"rate\": 0.3,\n",
    "        \"depend_on\": \"age\"  # income missing depends on age\n",
    "    },\n",
    "    \"gender\": {\n",
    "        \"mechanism\": \"mnar\", \n",
    "        \"type\": 4, \n",
    "        \"rate\": 0.4,\n",
    "        \"parameter\": {\"q\": 0.1, \"p\": 0.8, \"cut\": \"low\"}  \n",
    "    }\n",
    "}\n",
    "\n",
    "gen_info = MissMechaGenerator(info=info, cat_cols=[\"gender\"])\n",
    "df_missing_info = gen_info.fit_transform(columnwise_df)\n",
    "\n",
    "df_missing_info.head()"
   ]
  },
  {
   "cell_type": "markdown",
   "metadata": {},
   "source": [
    "### Access Missingness Mask"
   ]
  },
  {
   "cell_type": "code",
   "execution_count": 5,
   "metadata": {},
   "outputs": [
    {
     "name": "stdout",
     "output_type": "stream",
     "text": [
      "[[0 1 0]\n",
      " [1 0 1]\n",
      " [0 1 1]\n",
      " [1 1 1]\n",
      " [1 0 0]]\n",
      "[[False  True False]\n",
      " [ True False  True]\n",
      " [False  True  True]\n",
      " [ True  True  True]\n",
      " [ True False False]]\n"
     ]
    }
   ],
   "source": [
    "# Binary mask: 1 = observed, 0 = missing\n",
    "mask = gen_info.get_mask()\n",
    "print(mask[:5])\n",
    "\n",
    "\n",
    "# Boolean mask: True = observed, False = missing\n",
    "bool_mask = gen_info.get_bool_mask()\n",
    "print(bool_mask[:5])\n"
   ]
  }
 ],
 "metadata": {
  "kernelspec": {
   "display_name": "Python 3 (ipykernel)",
   "language": "python",
   "name": "python3"
  },
  "language_info": {
   "codemirror_mode": {
    "name": "ipython",
    "version": 3
   },
   "file_extension": ".py",
   "mimetype": "text/x-python",
   "name": "python",
   "nbconvert_exporter": "python",
   "pygments_lexer": "ipython3",
   "version": "3.9.12"
  }
 },
 "nbformat": 4,
 "nbformat_minor": 4
}
