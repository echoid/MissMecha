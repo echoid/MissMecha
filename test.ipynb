{
 "cells": [
  {
   "cell_type": "code",
   "execution_count": 5,
   "metadata": {},
   "outputs": [
    {
     "ename": "ImportError",
     "evalue": "cannot import name 'report' from 'missmecha.analysis' (/home/josh/code/MissMecha/MissMecha/missmecha/analysis.py)",
     "output_type": "error",
     "traceback": [
      "\u001b[31m---------------------------------------------------------------------------\u001b[39m",
      "\u001b[31mImportError\u001b[39m                               Traceback (most recent call last)",
      "\u001b[36mCell\u001b[39m\u001b[36m \u001b[39m\u001b[32mIn[5]\u001b[39m\u001b[32m, line 5\u001b[39m\n\u001b[32m      2\u001b[39m \u001b[38;5;28;01mimport\u001b[39;00m\u001b[38;5;250m \u001b[39m\u001b[34;01mnumpy\u001b[39;00m\u001b[38;5;250m \u001b[39m\u001b[38;5;28;01mas\u001b[39;00m\u001b[38;5;250m \u001b[39m\u001b[34;01mnp\u001b[39;00m\n\u001b[32m      3\u001b[39m \u001b[38;5;28;01mimport\u001b[39;00m\u001b[38;5;250m \u001b[39m\u001b[34;01mpandas\u001b[39;00m\u001b[38;5;250m \u001b[39m\u001b[38;5;28;01mas\u001b[39;00m\u001b[38;5;250m \u001b[39m\u001b[34;01mpd\u001b[39;00m\n\u001b[32m----> \u001b[39m\u001b[32m5\u001b[39m \u001b[38;5;28;01mfrom\u001b[39;00m\u001b[38;5;250m \u001b[39m\u001b[34;01mmissmecha\u001b[39;00m\u001b[34;01m.\u001b[39;00m\u001b[34;01manalysis\u001b[39;00m\u001b[38;5;250m \u001b[39m\u001b[38;5;28;01mimport\u001b[39;00m MCARTest, report, visual\n\u001b[32m      6\u001b[39m \u001b[38;5;28;01mfrom\u001b[39;00m\u001b[38;5;250m \u001b[39m\u001b[34;01mmissmecha\u001b[39;00m\u001b[34;01m.\u001b[39;00m\u001b[34;01mgenerate\u001b[39;00m\u001b[34;01m.\u001b[39;00m\u001b[34;01mmnar\u001b[39;00m\u001b[38;5;250m \u001b[39m\u001b[38;5;28;01mimport\u001b[39;00m MNARType6\n\u001b[32m      7\u001b[39m \u001b[38;5;28;01mfrom\u001b[39;00m\u001b[38;5;250m \u001b[39m\u001b[34;01mmissmecha\u001b[39;00m\u001b[34;01m.\u001b[39;00m\u001b[34;01mevaluation\u001b[39;00m\u001b[38;5;250m \u001b[39m\u001b[38;5;28;01mimport\u001b[39;00m imp_eval\n",
      "\u001b[31mImportError\u001b[39m: cannot import name 'report' from 'missmecha.analysis' (/home/josh/code/MissMecha/MissMecha/missmecha/analysis.py)"
     ]
    }
   ],
   "source": [
    "import matplotlib.pyplot as plt\n",
    "import numpy as np\n",
    "import pandas as pd\n",
    "\n",
    "from missmecha.analysis import MCARTest, report, visual\n",
    "from missmecha.generate.mnar import MNARType6\n",
    "from missmecha.evaluation import imp_eval\n",
    "\n",
    "# Simulate a sample DataFrame\n",
    "df = pd.DataFrame({\n",
    "    \"age\": [25, 30, 22, 40, 35, 50, 28, 33, 27, 45],\n",
    "    \"income\": [3000, 4500, 2800, 5200, 4100, 6000, 3900, 4800, 3100, 5500],\n",
    "    \"score\": [0.8, 0.6, 0.75, 0.9, 0.65, 0.92, 0.7, 0.85, 0.77, 0.88]\n",
    "})\n",
    "\n",
    "# Define info dictionary for generate()\n",
    "info = {\n",
    "    \"rate\": 0.2,  # 20% missingness\n",
    "    \"type\": 1     # Use type_two generator\n",
    "}\n",
    "\n",
    "def type_two(data, missing_rate=0.1, seed=1):\n",
    "    verify_missing_rate(missing_rate)\n",
    "    data = data.astype(float)\n",
    "    total_elements = data.size\n",
    "    missing_elements = int(total_elements * missing_rate)\n",
    "\n",
    "    data_with_missing = data.copy()\n",
    "    np.random.seed(seed)\n",
    "    mask_indices = np.random.choice(total_elements, missing_elements, replace=False)\n",
    "    multi_indices = np.unravel_index(mask_indices, data.shape)\n",
    "    data_with_missing[multi_indices] = np.nan\n",
    "\n",
    "    return data_with_missing\n",
    "\n",
    "\n",
    "# Run the test using generate\n",
    "data_with_missing = type_two(df, missing_rate=0.1)\n",
    "\n"
   ]
  },
  {
   "cell_type": "code",
   "execution_count": 6,
   "metadata": {},
   "outputs": [],
   "source": [
    "def verify_missing_rate(rate, var_name=\"missing_rate\"):\n",
    "    \"\"\"\n",
    "    Verify that the missing rate is between 0 and 1 (inclusive).\n",
    "\n",
    "    Parameters\n",
    "    ----------\n",
    "    rate : float\n",
    "        The missing rate to check.\n",
    "    var_name : str, optional\n",
    "        Variable name to show in the error message.\n",
    "\n",
    "    Raises\n",
    "    ------\n",
    "    ValueError\n",
    "        If the rate is not in the range [0, 1].\n",
    "    \"\"\"\n",
    "    if not isinstance(rate, (float, int)):\n",
    "        raise TypeError(f\"{var_name} must be a float or int.\")\n",
    "    if not (0 <= rate <= 1):\n",
    "        raise ValueError(f\"{var_name} must be between 0 and 1 (got {rate}).\")\n"
   ]
  },
  {
   "cell_type": "code",
   "execution_count": 7,
   "metadata": {},
   "outputs": [
    {
     "ename": "NameError",
     "evalue": "name 'report' is not defined",
     "output_type": "error",
     "traceback": [
      "\u001b[31m---------------------------------------------------------------------------\u001b[39m",
      "\u001b[31mNameError\u001b[39m                                 Traceback (most recent call last)",
      "\u001b[36mCell\u001b[39m\u001b[36m \u001b[39m\u001b[32mIn[7]\u001b[39m\u001b[32m, line 7\u001b[39m\n\u001b[32m      1\u001b[39m df = pd.DataFrame({\n\u001b[32m      2\u001b[39m     \u001b[33m\"\u001b[39m\u001b[33mage\u001b[39m\u001b[33m\"\u001b[39m: [\u001b[32m25\u001b[39m, \u001b[32m30\u001b[39m, np.nan, \u001b[32m40\u001b[39m],\n\u001b[32m      3\u001b[39m     \u001b[33m\"\u001b[39m\u001b[33mincome\u001b[39m\u001b[33m\"\u001b[39m: [\u001b[32m3000\u001b[39m, np.nan, \u001b[32m2800\u001b[39m, \u001b[32m5200\u001b[39m],\n\u001b[32m      4\u001b[39m     \u001b[33m\"\u001b[39m\u001b[33mgender\u001b[39m\u001b[33m\"\u001b[39m: [\u001b[33m\"\u001b[39m\u001b[33mM\u001b[39m\u001b[33m\"\u001b[39m, \u001b[33m\"\u001b[39m\u001b[33mF\u001b[39m\u001b[33m\"\u001b[39m, np.nan, \u001b[33m\"\u001b[39m\u001b[33mF\u001b[39m\u001b[33m\"\u001b[39m]\n\u001b[32m      5\u001b[39m })\n\u001b[32m----> \u001b[39m\u001b[32m7\u001b[39m result = \u001b[43mreport\u001b[49m.missing_rate(df)\n",
      "\u001b[31mNameError\u001b[39m: name 'report' is not defined"
     ]
    }
   ],
   "source": [
    "df = pd.DataFrame({\n",
    "    \"age\": [25, 30, np.nan, 40],\n",
    "    \"income\": [3000, np.nan, 2800, 5200],\n",
    "    \"gender\": [\"M\", \"F\", np.nan, \"F\"]\n",
    "})\n",
    "\n",
    "result = report.missing_rate(df)\n",
    "\n",
    "\n"
   ]
  },
  {
   "cell_type": "code",
   "execution_count": 2,
   "metadata": {},
   "outputs": [
    {
     "data": {
      "text/html": [
       "<div>\n",
       "<style scoped>\n",
       "    .dataframe tbody tr th:only-of-type {\n",
       "        vertical-align: middle;\n",
       "    }\n",
       "\n",
       "    .dataframe tbody tr th {\n",
       "        vertical-align: top;\n",
       "    }\n",
       "\n",
       "    .dataframe thead th {\n",
       "        text-align: right;\n",
       "    }\n",
       "</style>\n",
       "<table border=\"1\" class=\"dataframe\">\n",
       "  <thead>\n",
       "    <tr style=\"text-align: right;\">\n",
       "      <th></th>\n",
       "      <th>n_missing</th>\n",
       "      <th>missing_rate (%)</th>\n",
       "      <th>n_unique</th>\n",
       "      <th>dtype</th>\n",
       "      <th>n_total</th>\n",
       "    </tr>\n",
       "    <tr>\n",
       "      <th>column</th>\n",
       "      <th></th>\n",
       "      <th></th>\n",
       "      <th></th>\n",
       "      <th></th>\n",
       "      <th></th>\n",
       "    </tr>\n",
       "  </thead>\n",
       "  <tbody>\n",
       "    <tr>\n",
       "      <th>age</th>\n",
       "      <td>1</td>\n",
       "      <td>25.0</td>\n",
       "      <td>3</td>\n",
       "      <td>float64</td>\n",
       "      <td>4</td>\n",
       "    </tr>\n",
       "    <tr>\n",
       "      <th>income</th>\n",
       "      <td>1</td>\n",
       "      <td>25.0</td>\n",
       "      <td>3</td>\n",
       "      <td>float64</td>\n",
       "      <td>4</td>\n",
       "    </tr>\n",
       "    <tr>\n",
       "      <th>gender</th>\n",
       "      <td>1</td>\n",
       "      <td>25.0</td>\n",
       "      <td>2</td>\n",
       "      <td>object</td>\n",
       "      <td>4</td>\n",
       "    </tr>\n",
       "  </tbody>\n",
       "</table>\n",
       "</div>"
      ],
      "text/plain": [
       "        n_missing  missing_rate (%)  n_unique    dtype  n_total\n",
       "column                                                         \n",
       "age             1              25.0         3  float64        4\n",
       "income          1              25.0         3  float64        4\n",
       "gender          1              25.0         2   object        4"
      ]
     },
     "execution_count": 2,
     "metadata": {},
     "output_type": "execute_result"
    }
   ],
   "source": [
    "result['report']  # per-column summary\n"
   ]
  },
  {
   "cell_type": "code",
   "execution_count": 3,
   "metadata": {},
   "outputs": [
    {
     "data": {
      "text/plain": [
       "25.0"
      ]
     },
     "execution_count": 3,
     "metadata": {},
     "output_type": "execute_result"
    }
   ],
   "source": [
    "result['overall_missing_rate']  # overall %"
   ]
  },
  {
   "cell_type": "code",
   "execution_count": null,
   "metadata": {},
   "outputs": [],
   "source": [
    "\n",
    "collisions = pd.read_csv(\"https://raw.githubusercontent.com/ResidentMario/missingno-data/master/nyc_collision_factors.csv\")\n",
    "data = collisions.sample(250)\n",
    "df = pd.read_csv(\"_data.txt\", delimiter=\",\", header=None)\n",
    "\n",
    "# Simulated larger dataset with some missing values\n",
    "df = pd.DataFrame({\n",
    "    \"DATE\": [\"09/10/2016\", \"03/31/2016\", \"03/16/2016\", \"04/01/2016\", np.nan, \"04/03/2016\"],\n",
    "    \"TIME\": [\"12:09:00\", \"22:10:00\", \"14:58:00\", np.nan, \"08:30:00\", \"19:00:00\"],\n",
    "    \"BOROUGH\": [\"QUEENS\", \"BROOKLYN\", \"MANHATTAN\", \"QUEENS\", \"BRONX\", np.nan],\n",
    "    \"ZIP CODE\": [\"11427\", \"11223\", \"10001\", \"11434\", np.nan, \"10010\"],\n",
    "    \"LATITUDE\": [40.724692, 40.598761, 40.712776, np.nan, 40.850000, 40.755000],\n",
    "    \"LONGITUDE\": [-73.874245, -73.987843, -74.006058, -73.900000, -73.880000, np.nan],\n",
    "    \"VEHICLE TYPE\": [\"BICYCLE\", \"PASSENGER VEHICLE\", \"TAXI\", \"SUV\", np.nan, \"BICYCLE\"]\n",
    "})\n",
    "\n",
    "def type_convert(df):\n",
    "    for col in df.columns:\n",
    "        if df[col].dtype == 'object':\n",
    "            try:\n",
    "                df[col] = pd.to_datetime(df[col])\n",
    "            except ValueError:\n",
    "                 df[col] = df[col].astype('category').cat.codes\n",
    "\n",
    "        else:\n",
    "            df[col].to_numpy(dtype=float) \n",
    "\n",
    "    return df\n",
    "# Convert using your helper\n",
    "converted_array = type_convert(df)\n",
    "\n",
    "null_pattern =(np.random.random(10000).reshape((500, 20))> 0.5).astype(bool)\n",
    "null_pattern = pd.DataFrame(null_pattern).replace({False: None})\n",
    "ts = null_pattern.set_index(pd.period_range('1/1/2011', '5/14/2012', freq='D'))\n",
    "# visual.matrix(ts,cmap=\"GnBu\",ts=True)\n",
    "# visual.matrix(df,cmap=\"GnBu\")\n",
    "# visual.matrix(data,cmap=\"GnBu\",color=False)\n",
    "# visual.heatmap(ts)\n",
    "# visual.heatmap(df)\n",
    "# visual.heatmap(data)"
   ]
  },
  {
   "cell_type": "code",
   "execution_count": null,
   "metadata": {},
   "outputs": [
    {
     "name": "stdout",
     "output_type": "stream",
     "text": [
      "Per-column RMSE: {'A': 1.4817116029992137, 'B': 0.9307352818998821, 'C': 8.79733248775861}\n",
      "Overall RMSE: 3.736593124219235\n"
     ]
    }
   ],
   "source": [
    "# Step 1: Create complete test data\n",
    "np.random.seed(0)\n",
    "df_true = pd.DataFrame({\n",
    "    \"A\": np.random.normal(loc=10, scale=2, size=100),\n",
    "    \"B\": np.random.normal(loc=0, scale=1, size=100),\n",
    "    \"C\": np.random.normal(loc=50, scale=10, size=100)\n",
    "})\n",
    "\n",
    "# Step 2: Inject missing values (20%)\n",
    "mask = np.random.rand(*df_true.shape) < 0.2\n",
    "df_incomplete = df_true.mask(mask)\n",
    "\n",
    "# Step 3: Simple imputation with column means\n",
    "df_filled = df_incomplete.fillna(df_incomplete.mean().round())\n",
    "\n",
    "results = imp_eval(df_true, df_filled, df_incomplete, method=\"rmse\")\n",
    "print(\"Per-column RMSE:\", results[\"column_scores\"])\n",
    "print(\"Overall RMSE:\", results[\"overall_score\"])\n",
    "\n",
    "status = {\n",
    "    \"A\": \"num\",\n",
    "    \"B\": \"cat\",\n",
    "    \"C\": \"disc\"\n",
    "}\n",
    "\n",
    "# Even though method=\"mae\", it's only used for numeric columns\n",
    "# categorical columns will be evaluated by accuracy\n",
    "scores = imp_eval(df_true, df_filled, df_incomplete, method=\"mae\", status=status)\n",
    "print(\"Per-column RMSE:\", scores[\"column_scores\"])\n",
    "print(\"Overall RMSE:\", scores[\"overall_score\"])\n"
   ]
  },
  {
   "cell_type": "code",
   "execution_count": null,
   "metadata": {},
   "outputs": [
    {
     "name": "stdout",
     "output_type": "stream",
     "text": [
      "{'A': 1.133288651991824}\n",
      "0.0\n",
      "{'A': 1.133288651991824, 'B': 0.0}\n",
      "0.0\n",
      "{'A': 1.133288651991824, 'B': 0.0, 'C': 0.0}\n",
      "{'A': 1.133288651991824, 'B': 0.0, 'C': 0.0}\n",
      "Per-column RMSE: {'A': 1.133288651991824, 'B': 0.0, 'C': 0.0}\n",
      "Overall RMSE: 0.37776288399727465\n"
     ]
    }
   ],
   "source": [
    "\n"
   ]
  },
  {
   "cell_type": "code",
   "execution_count": null,
   "metadata": {},
   "outputs": [
    {
     "name": "stdout",
     "output_type": "stream",
     "text": [
      "缺失比例：\n",
      "X0    0.5\n",
      "X1    0.5\n",
      "X2    0.5\n",
      "X3    0.5\n",
      "X4    0.5\n",
      "dtype: float64\n",
      "📊 Little's MCAR Test\n",
      "   ➤ p-value: 0.154863\n",
      "   ✅ Fail to reject H₀: Data *may* be MCAR (p ≥ 0.05)\n",
      "   👍 MCAR-compatible methods (e.g., mean imputation) may be appropriate.\n",
      "\n",
      "===== Little’s MCAR Test =====\n",
      "p-value: 0.15486\n",
      "✅ Fail to reject H0: Data looks like MCAR (unexpected!)\n"
     ]
    }
   ],
   "source": [
    "# 生成标准正态分布数据\n",
    "rng = np.random.default_rng(42)\n",
    "data = rng.normal(0, 1, size=(10000, 5))\n",
    "df = pd.DataFrame(data, columns=[f\"X{i}\" for i in range(5)])\n",
    "\n",
    "# 使用极端分位点 1% 注入缺失\n",
    "mnar_gen = MNARType6(missing_rate=0.50, seed=42)  # 1% quantile threshold\n",
    "mnar_gen.fit(df)\n",
    "df_missing = mnar_gen.transform(df)\n",
    "\n",
    "# 检查缺失情况\n",
    "print(\"缺失比例：\")\n",
    "print(df_missing.isnull().mean())\n",
    "\n",
    "# 运行 Little’s MCAR test\n",
    "test = MCARTest(method=\"little\")\n",
    "p = test(df_missing)\n",
    "\n",
    "print(\"\\n===== Little’s MCAR Test =====\")\n",
    "print(f\"p-value: {p:.5f}\")\n",
    "if p < 0.05:\n",
    "    print(\"❌ Reject H0: Data is NOT MCAR (good! detected MNAR)\")\n",
    "else:\n",
    "    print(\"✅ Fail to reject H0: Data looks like MCAR (unexpected!)\")\n"
   ]
  },
  {
   "cell_type": "code",
   "execution_count": null,
   "metadata": {},
   "outputs": [
    {
     "data": {
      "image/png": "[encoded data removed]",
      "text/plain": [
       "<Figure size 2000x800 with 10 Axes>"
      ]
     },
     "metadata": {},
     "output_type": "display_data"
    }
   ],
   "source": [
    "\n",
    "# Regenerate the dataset\n",
    "np.random.seed(0)\n",
    "X = np.random.normal(loc=0, scale=1, size=(1000, 10))\n",
    "df = pd.DataFrame(X, columns=[f\"col{i}\" for i in range(X.shape[1])])\n",
    "\n",
    "# Create MNAR pattern: mask 50% of values above the median\n",
    "df_mnar = df.copy()\n",
    "rng = np.random.default_rng(42)  # 确保可复现\n",
    "\n",
    "for col in df.columns:\n",
    "    col_values = df[col]\n",
    "    # 找到 top 20% 的值（上分位数）\n",
    "    threshold = np.quantile(col_values, 0.8)\n",
    "    idx_top20 = df[df[col] >= threshold].index\n",
    "\n",
    "    # 从中抽取 80% 的样本作为缺失点\n",
    "    n_missing = int(len(idx_top20) * 0.8)\n",
    "    to_nan = rng.choice(idx_top20, size=n_missing, replace=False)\n",
    "\n",
    "    # 设为 NaN\n",
    "    df_mnar.loc[to_nan, col] = np.nan\n",
    "\n",
    "\n",
    "# Plot histograms\n",
    "fig, axs = plt.subplots(nrows=2, ncols=5, figsize=(20, 8))\n",
    "axs = axs.ravel()\n",
    "\n",
    "for i, col in enumerate(df.columns):\n",
    "    axs[i].hist(df_mnar[col].dropna(), bins=30, alpha=0.7, color='blue')\n",
    "    axs[i].set_title(f'Histogram of {col}')\n",
    "    axs[i].set_xlabel('Value')\n",
    "    axs[i].set_ylabel('Frequency')\n",
    "\n",
    "plt.tight_layout()\n",
    "plt.show()\n",
    "\n"
   ]
  },
  {
   "cell_type": "code",
   "execution_count": 20,
   "metadata": {},
   "outputs": [
    {
     "name": "stdout",
     "output_type": "stream",
     "text": [
      "📊 Little's MCAR Test\n",
      "   ➤ p-value: 0.320446\n",
      "   ✅ Fail to reject H₀: Data *may* be MCAR (p ≥ 0.05)\n",
      "   👍 MCAR-compatible methods (e.g., mean imputation) may be appropriate.\n"
     ]
    }
   ],
   "source": [
    "test = MCARTest(method=\"little\")\n",
    "p_value = test(df_mnar)\n",
    "\n"
   ]
  },
  {
   "cell_type": "code",
   "execution_count": 8,
   "metadata": {},
   "outputs": [
    {
     "data": {
      "text/plain": [
       "missmecha.generate.mnar.MNARType6"
      ]
     },
     "execution_count": 8,
     "metadata": {},
     "output_type": "execute_result"
    }
   ],
   "source": [
    "MNARType6"
   ]
  }
 ],
 "metadata": {
  "kernelspec": {
   "display_name": ".venv",
   "language": "python",
   "name": "python3"
  },
  "language_info": {
   "codemirror_mode": {
    "name": "ipython",
    "version": 3
   },
   "file_extension": ".py",
   "mimetype": "text/x-python",
   "name": "python",
   "nbconvert_exporter": "python",
   "pygments_lexer": "ipython3",
   "version": "3.13.3"
  }
 },
 "nbformat": 4,
 "nbformat_minor": 2
}
